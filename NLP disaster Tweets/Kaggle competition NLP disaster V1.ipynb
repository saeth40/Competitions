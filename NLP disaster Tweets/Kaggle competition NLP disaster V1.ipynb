{
 "cells": [
  {
   "cell_type": "markdown",
   "id": "651fa9e3-aa39-4b9c-9a79-bb9f9fdbed4e",
   "metadata": {},
   "source": [
    "# dataset"
   ]
  },
  {
   "cell_type": "code",
   "execution_count": 1,
   "id": "af46582c-c28b-421c-a90a-ef7958bff7e0",
   "metadata": {},
   "outputs": [],
   "source": [
    "import pandas as pd\n",
    "import matplotlib.pyplot as plt\n",
    "import seaborn as sns\n",
    "from sklearn.model_selection import train_test_split\n",
    "from transformers import RobertaTokenizer, RobertaModel, BertTokenizer, BertModel\n",
    "import torch\n",
    "from torch.utils.data import DataLoader, Dataset\n",
    "from torchinfo import summary\n",
    "from torch import nn, optim\n",
    "import numpy as np\n",
    "from typing import Tuple, Dict, List\n",
    "from tqdm.auto import tqdm\n",
    "import timeit\n",
    "import os\n",
    "from torchmetrics import ConfusionMatrix\n",
    "from mlxtend.plotting import plot_confusion_matrix\n",
    "import gensim\n",
    "from gensim.utils import simple_preprocess\n",
    "from gensim.parsing.preprocessing import STOPWORDS\n",
    "from nltk.stem import WordNetLemmatizer\n",
    "from nltk.tag import map_tag\n",
    "from nltk.corpus import wordnet\n",
    "import nltk\n",
    "import joblib\n",
    "import timeit\n",
    "import re"
   ]
  },
  {
   "cell_type": "code",
   "execution_count": 2,
   "id": "ccd238e3-c2d1-48ef-9473-a8ce6870212b",
   "metadata": {},
   "outputs": [
    {
     "data": {
      "text/html": [
       "<div>\n",
       "<style scoped>\n",
       "    .dataframe tbody tr th:only-of-type {\n",
       "        vertical-align: middle;\n",
       "    }\n",
       "\n",
       "    .dataframe tbody tr th {\n",
       "        vertical-align: top;\n",
       "    }\n",
       "\n",
       "    .dataframe thead th {\n",
       "        text-align: right;\n",
       "    }\n",
       "</style>\n",
       "<table border=\"1\" class=\"dataframe\">\n",
       "  <thead>\n",
       "    <tr style=\"text-align: right;\">\n",
       "      <th></th>\n",
       "      <th>id</th>\n",
       "      <th>keyword</th>\n",
       "      <th>location</th>\n",
       "      <th>text</th>\n",
       "      <th>target</th>\n",
       "    </tr>\n",
       "  </thead>\n",
       "  <tbody>\n",
       "    <tr>\n",
       "      <th>0</th>\n",
       "      <td>1</td>\n",
       "      <td>NaN</td>\n",
       "      <td>NaN</td>\n",
       "      <td>Our Deeds are the Reason of this #earthquake M...</td>\n",
       "      <td>1</td>\n",
       "    </tr>\n",
       "    <tr>\n",
       "      <th>1</th>\n",
       "      <td>4</td>\n",
       "      <td>NaN</td>\n",
       "      <td>NaN</td>\n",
       "      <td>Forest fire near La Ronge Sask. Canada</td>\n",
       "      <td>1</td>\n",
       "    </tr>\n",
       "    <tr>\n",
       "      <th>2</th>\n",
       "      <td>5</td>\n",
       "      <td>NaN</td>\n",
       "      <td>NaN</td>\n",
       "      <td>All residents asked to 'shelter in place' are ...</td>\n",
       "      <td>1</td>\n",
       "    </tr>\n",
       "    <tr>\n",
       "      <th>3</th>\n",
       "      <td>6</td>\n",
       "      <td>NaN</td>\n",
       "      <td>NaN</td>\n",
       "      <td>13,000 people receive #wildfires evacuation or...</td>\n",
       "      <td>1</td>\n",
       "    </tr>\n",
       "    <tr>\n",
       "      <th>4</th>\n",
       "      <td>7</td>\n",
       "      <td>NaN</td>\n",
       "      <td>NaN</td>\n",
       "      <td>Just got sent this photo from Ruby #Alaska as ...</td>\n",
       "      <td>1</td>\n",
       "    </tr>\n",
       "    <tr>\n",
       "      <th>...</th>\n",
       "      <td>...</td>\n",
       "      <td>...</td>\n",
       "      <td>...</td>\n",
       "      <td>...</td>\n",
       "      <td>...</td>\n",
       "    </tr>\n",
       "    <tr>\n",
       "      <th>7608</th>\n",
       "      <td>10869</td>\n",
       "      <td>NaN</td>\n",
       "      <td>NaN</td>\n",
       "      <td>Two giant cranes holding a bridge collapse int...</td>\n",
       "      <td>1</td>\n",
       "    </tr>\n",
       "    <tr>\n",
       "      <th>7609</th>\n",
       "      <td>10870</td>\n",
       "      <td>NaN</td>\n",
       "      <td>NaN</td>\n",
       "      <td>@aria_ahrary @TheTawniest The out of control w...</td>\n",
       "      <td>1</td>\n",
       "    </tr>\n",
       "    <tr>\n",
       "      <th>7610</th>\n",
       "      <td>10871</td>\n",
       "      <td>NaN</td>\n",
       "      <td>NaN</td>\n",
       "      <td>M1.94 [01:04 UTC]?5km S of Volcano Hawaii. htt...</td>\n",
       "      <td>1</td>\n",
       "    </tr>\n",
       "    <tr>\n",
       "      <th>7611</th>\n",
       "      <td>10872</td>\n",
       "      <td>NaN</td>\n",
       "      <td>NaN</td>\n",
       "      <td>Police investigating after an e-bike collided ...</td>\n",
       "      <td>1</td>\n",
       "    </tr>\n",
       "    <tr>\n",
       "      <th>7612</th>\n",
       "      <td>10873</td>\n",
       "      <td>NaN</td>\n",
       "      <td>NaN</td>\n",
       "      <td>The Latest: More Homes Razed by Northern Calif...</td>\n",
       "      <td>1</td>\n",
       "    </tr>\n",
       "  </tbody>\n",
       "</table>\n",
       "<p>7613 rows × 5 columns</p>\n",
       "</div>"
      ],
      "text/plain": [
       "         id keyword location  \\\n",
       "0         1     NaN      NaN   \n",
       "1         4     NaN      NaN   \n",
       "2         5     NaN      NaN   \n",
       "3         6     NaN      NaN   \n",
       "4         7     NaN      NaN   \n",
       "...     ...     ...      ...   \n",
       "7608  10869     NaN      NaN   \n",
       "7609  10870     NaN      NaN   \n",
       "7610  10871     NaN      NaN   \n",
       "7611  10872     NaN      NaN   \n",
       "7612  10873     NaN      NaN   \n",
       "\n",
       "                                                   text  target  \n",
       "0     Our Deeds are the Reason of this #earthquake M...       1  \n",
       "1                Forest fire near La Ronge Sask. Canada       1  \n",
       "2     All residents asked to 'shelter in place' are ...       1  \n",
       "3     13,000 people receive #wildfires evacuation or...       1  \n",
       "4     Just got sent this photo from Ruby #Alaska as ...       1  \n",
       "...                                                 ...     ...  \n",
       "7608  Two giant cranes holding a bridge collapse int...       1  \n",
       "7609  @aria_ahrary @TheTawniest The out of control w...       1  \n",
       "7610  M1.94 [01:04 UTC]?5km S of Volcano Hawaii. htt...       1  \n",
       "7611  Police investigating after an e-bike collided ...       1  \n",
       "7612  The Latest: More Homes Razed by Northern Calif...       1  \n",
       "\n",
       "[7613 rows x 5 columns]"
      ]
     },
     "execution_count": 2,
     "metadata": {},
     "output_type": "execute_result"
    }
   ],
   "source": [
    "df = pd.read_csv('C:\\\\Users\\\\Saeth\\\\Downloads\\\\NLP_kaggke_disaster_prediction\\\\train.csv')\n",
    "#df = df.sample(frac=1).reset_index()\n",
    "df"
   ]
  },
  {
   "cell_type": "code",
   "execution_count": 3,
   "id": "a0593ad2-89d6-42e1-ac25-7d5882a39f8e",
   "metadata": {},
   "outputs": [
    {
     "data": {
      "text/plain": [
       "61"
      ]
     },
     "execution_count": 3,
     "metadata": {},
     "output_type": "execute_result"
    }
   ],
   "source": [
    "# null keywords count\n",
    "df['keyword'].isna().sum() "
   ]
  },
  {
   "cell_type": "code",
   "execution_count": 4,
   "id": "31f8d1b1-477e-4c6b-bd7b-2327ee40fc21",
   "metadata": {},
   "outputs": [
    {
     "name": "stdout",
     "output_type": "stream",
     "text": [
      "<class 'pandas.core.frame.DataFrame'>\n",
      "RangeIndex: 7613 entries, 0 to 7612\n",
      "Data columns (total 5 columns):\n",
      " #   Column    Non-Null Count  Dtype \n",
      "---  ------    --------------  ----- \n",
      " 0   id        7613 non-null   int64 \n",
      " 1   keyword   7552 non-null   object\n",
      " 2   location  5080 non-null   object\n",
      " 3   text      7613 non-null   object\n",
      " 4   target    7613 non-null   int64 \n",
      "dtypes: int64(2), object(3)\n",
      "memory usage: 297.5+ KB\n"
     ]
    }
   ],
   "source": [
    "df.info()"
   ]
  },
  {
   "cell_type": "code",
   "execution_count": 5,
   "id": "3e1cce10-89a7-4f06-a984-000bde7fdb08",
   "metadata": {},
   "outputs": [
    {
     "data": {
      "text/html": [
       "<div>\n",
       "<style scoped>\n",
       "    .dataframe tbody tr th:only-of-type {\n",
       "        vertical-align: middle;\n",
       "    }\n",
       "\n",
       "    .dataframe tbody tr th {\n",
       "        vertical-align: top;\n",
       "    }\n",
       "\n",
       "    .dataframe thead th {\n",
       "        text-align: right;\n",
       "    }\n",
       "</style>\n",
       "<table border=\"1\" class=\"dataframe\">\n",
       "  <thead>\n",
       "    <tr style=\"text-align: right;\">\n",
       "      <th></th>\n",
       "      <th>id</th>\n",
       "      <th>target</th>\n",
       "    </tr>\n",
       "  </thead>\n",
       "  <tbody>\n",
       "    <tr>\n",
       "      <th>count</th>\n",
       "      <td>7613.000000</td>\n",
       "      <td>7613.00000</td>\n",
       "    </tr>\n",
       "    <tr>\n",
       "      <th>mean</th>\n",
       "      <td>5441.934848</td>\n",
       "      <td>0.42966</td>\n",
       "    </tr>\n",
       "    <tr>\n",
       "      <th>std</th>\n",
       "      <td>3137.116090</td>\n",
       "      <td>0.49506</td>\n",
       "    </tr>\n",
       "    <tr>\n",
       "      <th>min</th>\n",
       "      <td>1.000000</td>\n",
       "      <td>0.00000</td>\n",
       "    </tr>\n",
       "    <tr>\n",
       "      <th>25%</th>\n",
       "      <td>2734.000000</td>\n",
       "      <td>0.00000</td>\n",
       "    </tr>\n",
       "    <tr>\n",
       "      <th>50%</th>\n",
       "      <td>5408.000000</td>\n",
       "      <td>0.00000</td>\n",
       "    </tr>\n",
       "    <tr>\n",
       "      <th>75%</th>\n",
       "      <td>8146.000000</td>\n",
       "      <td>1.00000</td>\n",
       "    </tr>\n",
       "    <tr>\n",
       "      <th>max</th>\n",
       "      <td>10873.000000</td>\n",
       "      <td>1.00000</td>\n",
       "    </tr>\n",
       "  </tbody>\n",
       "</table>\n",
       "</div>"
      ],
      "text/plain": [
       "                 id      target\n",
       "count   7613.000000  7613.00000\n",
       "mean    5441.934848     0.42966\n",
       "std     3137.116090     0.49506\n",
       "min        1.000000     0.00000\n",
       "25%     2734.000000     0.00000\n",
       "50%     5408.000000     0.00000\n",
       "75%     8146.000000     1.00000\n",
       "max    10873.000000     1.00000"
      ]
     },
     "execution_count": 5,
     "metadata": {},
     "output_type": "execute_result"
    }
   ],
   "source": [
    "df.describe()"
   ]
  },
  {
   "cell_type": "code",
   "execution_count": 6,
   "id": "eccbaa2d-5a4f-4118-8afe-7e2c7f8fee37",
   "metadata": {},
   "outputs": [
    {
     "data": {
      "text/plain": [
       "0    4342\n",
       "1    3271\n",
       "Name: target, dtype: int64"
      ]
     },
     "execution_count": 6,
     "metadata": {},
     "output_type": "execute_result"
    }
   ],
   "source": [
    "df['target'].value_counts()"
   ]
  },
  {
   "cell_type": "code",
   "execution_count": 7,
   "id": "86fded0a-b15b-46b9-b0ae-ea1c6fc3a3f3",
   "metadata": {},
   "outputs": [
    {
     "data": {
      "image/png": "[encoded data removed]",
      "text/plain": [
       "<Figure size 720x504 with 1 Axes>"
      ]
     },
     "metadata": {
      "needs_background": "light"
     },
     "output_type": "display_data"
    }
   ],
   "source": [
    "frequencies = list(df['target'].value_counts())\n",
    "# In my original code I create a series and run on that,\n",
    "# so for consistency I create a series from the list.\n",
    "freq_series = pd.Series(frequencies)\n",
    "\n",
    "x_labels = ['Negative','Positive']\n",
    "\n",
    "# Plot the figure.\n",
    "plt.figure(figsize=(10, 7))\n",
    "ax = freq_series.plot(kind=\"bar\")\n",
    "ax.set_title(\"Class count\")\n",
    "ax.set_xlabel(\"Class\")\n",
    "ax.set_ylabel(\"Frequency\")\n",
    "ax.set_xticklabels(x_labels)\n",
    "\n",
    "rects = ax.patches\n",
    "\n",
    "# Make some labels.\n",
    "labels = frequencies\n",
    "\n",
    "for rect, label in zip(rects, labels):\n",
    "    height = rect.get_height()\n",
    "    ax.text(\n",
    "        rect.get_x() + rect.get_width() / 2, height + 5, label, ha=\"center\", va=\"bottom\"\n",
    "    )\n",
    "\n",
    "plt.show()"
   ]
  },
  {
   "cell_type": "markdown",
   "id": "7cf17ce5-bb87-43b3-89aa-f7677d240606",
   "metadata": {},
   "source": [
    "# text preprocessing"
   ]
  },
  {
   "cell_type": "code",
   "execution_count": 8,
   "id": "a31c16b9-625a-452f-a32b-b0b180239d3b",
   "metadata": {},
   "outputs": [],
   "source": [
    "# check duplicates\n",
    "record = dict()\n",
    "for i in range(len(df)):\n",
    "    if df.iloc[i]['text'] not in record:\n",
    "        record[df.iloc[i]['text']] = [[df.iloc[i]['target']], [i]]\n",
    "    else:\n",
    "        record[df.iloc[i]['text']][0].append(df.iloc[i]['target'])\n",
    "        record[df.iloc[i]['text']][1].append(i)"
   ]
  },
  {
   "cell_type": "code",
   "execution_count": 9,
   "id": "41ccdf2c-7b31-41d4-96bb-b3827ff7e10b",
   "metadata": {},
   "outputs": [],
   "source": [
    "recored_labels = [0,0,0,0,1,0,0,0,0,0] # correct label"
   ]
  },
  {
   "cell_type": "code",
   "execution_count": 10,
   "id": "cb1190c0-bf0f-42d8-9e85-7e6883b1d3be",
   "metadata": {},
   "outputs": [
    {
     "name": "stdout",
     "output_type": "stream",
     "text": [
      "To fight bioterrorism sir.\n",
      "[1, 0, 1, 0]\n",
      "the right label:  0\n",
      "Mmmmmm I'm burning.... I'm burning buildings I'm building.... Oooooohhhh oooh ooh...\n",
      "[1, 0]\n",
      "the right label:  0\n",
      "I Pledge Allegiance To The P.O.P.E. And The Burning Buildings of Epic City. ??????\n",
      "[0, 1]\n",
      "the right label:  0\n",
      "like for the music video I want some real action shit like burning buildings and police chases not some weak ben winston shit\n",
      "[1, 0]\n",
      "the right label:  0\n",
      "Caution: breathing may be hazardous to your health.\n",
      "[1, 0]\n",
      "the right label:  1\n",
      "Hellfire! We donÛªt even want to think about it or mention it so letÛªs not do anything that leads to it #islam!\n",
      "[0, 1]\n",
      "the right label:  0\n",
      "RT NotExplained: The only known image of infamous hijacker D.B. Cooper. http://t.co/JlzK2HdeTG\n",
      "[0, 1]\n",
      "the right label:  0\n",
      "wowo--=== 12000 Nigerian refugees repatriated from Cameroon\n",
      "[1, 0]\n",
      "the right label:  0\n",
      "that horrible sinking feeling when youÛªve been at home on your phone for a while and you realise its been on 3G this whole time\n",
      "[1, 0, 0, 1]\n",
      "the right label:  0\n",
      "In #islam saving a person is equal in reward to saving all humans! Islam is the opposite of terrorism!\n",
      "[0, 1]\n",
      "the right label:  0\n"
     ]
    }
   ],
   "source": [
    "track_index=-1\n",
    "track_print = -1\n",
    "drop_index = []\n",
    "new_record = dict()\n",
    "for text, [targets, indexs] in list(record.items()):\n",
    "    track_index+=1\n",
    "    if len(targets)>1:\n",
    "        drop_index.extend(indexs[1:])\n",
    "        count_0 = targets.count(0)\n",
    "        count_1 = targets.count(1)\n",
    "        if count_0>count_1:\n",
    "            x=0\n",
    "        elif count_1>count_0:\n",
    "            x=1\n",
    "        else:\n",
    "            track_print+=1\n",
    "            print(text)\n",
    "            print(targets)\n",
    "            #x = input('the right label: ')\n",
    "            x = recored_labels[track_print]\n",
    "            print('the right label: ', x)\n",
    "        #print(indexs)\n",
    "        #print(drop_index)\n",
    "        for i in range(len(df)):\n",
    "            if df.iloc[i]['text']==text:\n",
    "                df.at[i, 'target'] = x\n",
    "        if track_print==20:\n",
    "            print('track_index', track_index)\n",
    "            break"
   ]
  },
  {
   "cell_type": "code",
   "execution_count": 11,
   "id": "310b6b1e-245f-4607-9d74-bd5c56ca9c05",
   "metadata": {},
   "outputs": [
    {
     "data": {
      "text/plain": [
       "7502"
      ]
     },
     "execution_count": 11,
     "metadata": {},
     "output_type": "execute_result"
    }
   ],
   "source": [
    "track_index"
   ]
  },
  {
   "cell_type": "code",
   "execution_count": 12,
   "id": "8218a0ad-a1d3-42b2-8a15-c630c2eacf36",
   "metadata": {},
   "outputs": [],
   "source": [
    "# drop duplicates\n",
    "df = df.drop(df.index[drop_index])"
   ]
  },
  {
   "cell_type": "code",
   "execution_count": 13,
   "id": "bd1b73a9-dee2-48f3-811d-b2407fa5d5b0",
   "metadata": {},
   "outputs": [],
   "source": [
    "remove_stop_initial = False\n",
    "def text_preprocess(text, remove_stop = False):\n",
    "    # delete a whole word with: http, #, @, numbers\n",
    "    out = text.lower().split(' ')\n",
    "    for i in range(len(out)):\n",
    "        #print(out[i])\n",
    "        if 'http' in out[i]: # delete http\n",
    "            out[i] = ''\n",
    "        if '#' in out[i]: # delete http\n",
    "            out[i] = ''\n",
    "        if '@' in out[i]: # delete http\n",
    "            out[i] = ''\n",
    "        if len(re.findall('[1-9]', out[i]))!=0:\n",
    "            out[i] = ''\n",
    "    # replace all non a-z with ' '\n",
    "    text = ' '.join(out)\n",
    "    text = re.sub('[^a-z]', ' ', text)\n",
    "    out = text.lower().split(' ')\n",
    "    out = [i.strip() for i in out if len(i)>0]\n",
    "    #out = [i for i in simple_preprocess(' '.join(out), min_len=1)]\n",
    "    #out = [i for i in simple_preprocess(' '.join(out), min_len=1) if i.strip() in valid_words]\n",
    "    if remove_stop == True:\n",
    "        out = [i for i in out if i not in STOPWORDS]\n",
    "    return ' '.join(out)"
   ]
  },
  {
   "cell_type": "code",
   "execution_count": 14,
   "id": "874eb56f-fcc7-4059-946b-94cae86fa9ba",
   "metadata": {},
   "outputs": [
    {
     "name": "stdout",
     "output_type": "stream",
     "text": [
      "Forest fire near La Ronge Sask. Canada\n"
     ]
    },
    {
     "data": {
      "text/plain": [
       "'forest fire near la ronge sask canada'"
      ]
     },
     "execution_count": 14,
     "metadata": {},
     "output_type": "execute_result"
    }
   ],
   "source": [
    "sentence = df.iloc[1]['text']\n",
    "print(sentence)\n",
    "text_preprocess(sentence, remove_stop = remove_stop_initial)"
   ]
  },
  {
   "cell_type": "code",
   "execution_count": 15,
   "id": "6bf23039-9b6b-4f3f-8738-8e6f8f5d7352",
   "metadata": {},
   "outputs": [
    {
     "data": {
      "text/plain": [
       "'forest near la ronge sask canada'"
      ]
     },
     "execution_count": 15,
     "metadata": {},
     "output_type": "execute_result"
    }
   ],
   "source": [
    "text_preprocess(sentence, remove_stop = True)"
   ]
  },
  {
   "cell_type": "code",
   "execution_count": 16,
   "id": "bf162629-eb0a-47fa-b796-cc4cc4ee0c03",
   "metadata": {},
   "outputs": [
    {
     "name": "stdout",
     "output_type": "stream",
     "text": [
      "time load freq_dict (Sec):  0.1607440000000011\n"
     ]
    },
    {
     "data": {
      "text/html": [
       "<div>\n",
       "<style scoped>\n",
       "    .dataframe tbody tr th:only-of-type {\n",
       "        vertical-align: middle;\n",
       "    }\n",
       "\n",
       "    .dataframe tbody tr th {\n",
       "        vertical-align: top;\n",
       "    }\n",
       "\n",
       "    .dataframe thead th {\n",
       "        text-align: right;\n",
       "    }\n",
       "</style>\n",
       "<table border=\"1\" class=\"dataframe\">\n",
       "  <thead>\n",
       "    <tr style=\"text-align: right;\">\n",
       "      <th></th>\n",
       "      <th>id</th>\n",
       "      <th>keyword</th>\n",
       "      <th>location</th>\n",
       "      <th>text</th>\n",
       "      <th>target</th>\n",
       "    </tr>\n",
       "  </thead>\n",
       "  <tbody>\n",
       "    <tr>\n",
       "      <th>0</th>\n",
       "      <td>1</td>\n",
       "      <td>NaN</td>\n",
       "      <td>NaN</td>\n",
       "      <td>our deeds are the reason of this may allah for...</td>\n",
       "      <td>1</td>\n",
       "    </tr>\n",
       "    <tr>\n",
       "      <th>1</th>\n",
       "      <td>4</td>\n",
       "      <td>NaN</td>\n",
       "      <td>NaN</td>\n",
       "      <td>forest fire near la ronge sask canada</td>\n",
       "      <td>1</td>\n",
       "    </tr>\n",
       "    <tr>\n",
       "      <th>2</th>\n",
       "      <td>5</td>\n",
       "      <td>NaN</td>\n",
       "      <td>NaN</td>\n",
       "      <td>all residents asked to shelter in place are be...</td>\n",
       "      <td>1</td>\n",
       "    </tr>\n",
       "    <tr>\n",
       "      <th>3</th>\n",
       "      <td>6</td>\n",
       "      <td>NaN</td>\n",
       "      <td>NaN</td>\n",
       "      <td>people receive evacuation orders in california</td>\n",
       "      <td>1</td>\n",
       "    </tr>\n",
       "    <tr>\n",
       "      <th>4</th>\n",
       "      <td>7</td>\n",
       "      <td>NaN</td>\n",
       "      <td>NaN</td>\n",
       "      <td>just got sent this photo from ruby as smoke fr...</td>\n",
       "      <td>1</td>\n",
       "    </tr>\n",
       "    <tr>\n",
       "      <th>...</th>\n",
       "      <td>...</td>\n",
       "      <td>...</td>\n",
       "      <td>...</td>\n",
       "      <td>...</td>\n",
       "      <td>...</td>\n",
       "    </tr>\n",
       "    <tr>\n",
       "      <th>7604</th>\n",
       "      <td>10863</td>\n",
       "      <td>NaN</td>\n",
       "      <td>NaN</td>\n",
       "      <td>fallen powerlines on g link tram update fire c...</td>\n",
       "      <td>1</td>\n",
       "    </tr>\n",
       "    <tr>\n",
       "      <th>7605</th>\n",
       "      <td>10864</td>\n",
       "      <td>NaN</td>\n",
       "      <td>NaN</td>\n",
       "      <td>on the flip side i m at walmart and there is a...</td>\n",
       "      <td>1</td>\n",
       "    </tr>\n",
       "    <tr>\n",
       "      <th>7606</th>\n",
       "      <td>10866</td>\n",
       "      <td>NaN</td>\n",
       "      <td>NaN</td>\n",
       "      <td>suicide bomber kills in saudi security site mo...</td>\n",
       "      <td>1</td>\n",
       "    </tr>\n",
       "    <tr>\n",
       "      <th>7608</th>\n",
       "      <td>10869</td>\n",
       "      <td>NaN</td>\n",
       "      <td>NaN</td>\n",
       "      <td>two giant cranes holding a bridge collapse int...</td>\n",
       "      <td>1</td>\n",
       "    </tr>\n",
       "    <tr>\n",
       "      <th>7612</th>\n",
       "      <td>10873</td>\n",
       "      <td>NaN</td>\n",
       "      <td>NaN</td>\n",
       "      <td>the latest more homes razed by northern califo...</td>\n",
       "      <td>1</td>\n",
       "    </tr>\n",
       "  </tbody>\n",
       "</table>\n",
       "<p>7503 rows × 5 columns</p>\n",
       "</div>"
      ],
      "text/plain": [
       "         id keyword location  \\\n",
       "0         1     NaN      NaN   \n",
       "1         4     NaN      NaN   \n",
       "2         5     NaN      NaN   \n",
       "3         6     NaN      NaN   \n",
       "4         7     NaN      NaN   \n",
       "...     ...     ...      ...   \n",
       "7604  10863     NaN      NaN   \n",
       "7605  10864     NaN      NaN   \n",
       "7606  10866     NaN      NaN   \n",
       "7608  10869     NaN      NaN   \n",
       "7612  10873     NaN      NaN   \n",
       "\n",
       "                                                   text  target  \n",
       "0     our deeds are the reason of this may allah for...       1  \n",
       "1                 forest fire near la ronge sask canada       1  \n",
       "2     all residents asked to shelter in place are be...       1  \n",
       "3        people receive evacuation orders in california       1  \n",
       "4     just got sent this photo from ruby as smoke fr...       1  \n",
       "...                                                 ...     ...  \n",
       "7604  fallen powerlines on g link tram update fire c...       1  \n",
       "7605  on the flip side i m at walmart and there is a...       1  \n",
       "7606  suicide bomber kills in saudi security site mo...       1  \n",
       "7608  two giant cranes holding a bridge collapse int...       1  \n",
       "7612  the latest more homes razed by northern califo...       1  \n",
       "\n",
       "[7503 rows x 5 columns]"
      ]
     },
     "execution_count": 16,
     "metadata": {},
     "output_type": "execute_result"
    }
   ],
   "source": [
    "start = timeit.default_timer()\n",
    "df['text'] = df['text'].apply(lambda x: text_preprocess(x, remove_stop = remove_stop_initial))\n",
    "stop = timeit.default_timer()\n",
    "print('time load freq_dict (Sec): ', stop-start)\n",
    "df"
   ]
  },
  {
   "cell_type": "markdown",
   "id": "a8d2d9f9-1a7e-4bfb-8237-4043cab5f484",
   "metadata": {},
   "source": [
    "# train-test split"
   ]
  },
  {
   "cell_type": "code",
   "execution_count": 17,
   "id": "638f83c6-243e-43f0-a3d0-c00b549e7a4d",
   "metadata": {},
   "outputs": [
    {
     "data": {
      "text/plain": [
       "device(type='cuda')"
      ]
     },
     "execution_count": 17,
     "metadata": {},
     "output_type": "execute_result"
    }
   ],
   "source": [
    "device = torch.device(\"cuda\" if torch.cuda.is_available() else \"cpu\")\n",
    "device"
   ]
  },
  {
   "cell_type": "code",
   "execution_count": 18,
   "id": "0ed7aa77-17c0-4c70-a12b-53504ed2e833",
   "metadata": {},
   "outputs": [],
   "source": [
    "tokenizer = BertTokenizer.from_pretrained('bert-base-uncased')"
   ]
  },
  {
   "cell_type": "code",
   "execution_count": 19,
   "id": "011d367f-e2fa-43a3-b59a-70d33a9a4f63",
   "metadata": {},
   "outputs": [
    {
     "data": {
      "text/plain": [
       "0       [101, 2256, 15616, 2024, 1996, 3114, 1997, 202...\n",
       "1       [101, 3224, 2543, 2379, 2474, 6902, 3351, 2187...\n",
       "2       [101, 2035, 3901, 2356, 2000, 7713, 1999, 2173...\n",
       "3         [101, 2111, 4374, 13982, 4449, 1999, 2662, 102]\n",
       "4       [101, 2074, 2288, 2741, 2023, 6302, 2013, 1009...\n",
       "                              ...                        \n",
       "7604    [101, 5357, 2373, 12735, 2006, 1043, 4957, 125...\n",
       "7605    [101, 2006, 1996, 11238, 2217, 1045, 1049, 201...\n",
       "7606    [101, 5920, 9472, 8563, 1999, 8174, 3036, 2609...\n",
       "7608    [101, 2048, 5016, 27083, 3173, 1037, 2958, 785...\n",
       "7612    [101, 1996, 6745, 2062, 5014, 10958, 5422, 201...\n",
       "Name: text, Length: 7503, dtype: object"
      ]
     },
     "execution_count": 19,
     "metadata": {},
     "output_type": "execute_result"
    }
   ],
   "source": [
    "# apply text tokenizer\n",
    "tokenized=df['text'].apply((lambda x: tokenizer.encode(x, add_special_tokens=True)))\n",
    "tokenized"
   ]
  },
  {
   "cell_type": "code",
   "execution_count": 20,
   "id": "942f2e59-6efc-467d-9f8c-22cae834755d",
   "metadata": {},
   "outputs": [
    {
     "data": {
      "text/plain": [
       "41"
      ]
     },
     "execution_count": 20,
     "metadata": {},
     "output_type": "execute_result"
    }
   ],
   "source": [
    "# max len tokenized\n",
    "max_len = max(len(i) for i in tokenized)\n",
    "max_len"
   ]
  },
  {
   "cell_type": "code",
   "execution_count": 21,
   "id": "122979fb-c415-4eee-9cdf-a8d2c6f0347f",
   "metadata": {},
   "outputs": [],
   "source": [
    "padded = np.array([i + [0]*(max_len-len(i)) for i in tokenized.values])"
   ]
  },
  {
   "cell_type": "code",
   "execution_count": 22,
   "id": "f26d0aca-d9d7-487f-8b9e-578c22c2a8e8",
   "metadata": {},
   "outputs": [
    {
     "data": {
      "text/plain": [
       "(7503, 41)"
      ]
     },
     "execution_count": 22,
     "metadata": {},
     "output_type": "execute_result"
    }
   ],
   "source": [
    "padded.shape"
   ]
  },
  {
   "cell_type": "code",
   "execution_count": 23,
   "id": "cac63b1a-2fba-486d-a4bd-15043822a1a9",
   "metadata": {},
   "outputs": [
    {
     "data": {
      "text/plain": [
       "(7503, 41)"
      ]
     },
     "execution_count": 23,
     "metadata": {},
     "output_type": "execute_result"
    }
   ],
   "source": [
    "attention_mask = np.where(padded != 0, 1, 0)\n",
    "attention_mask.shape"
   ]
  },
  {
   "cell_type": "code",
   "execution_count": 24,
   "id": "ace1424f-65fa-4dc3-bf80-ba3768c636fa",
   "metadata": {},
   "outputs": [
    {
     "data": {
      "text/plain": [
       "(7503,)"
      ]
     },
     "execution_count": 24,
     "metadata": {},
     "output_type": "execute_result"
    }
   ],
   "source": [
    "labels = np.array(df['target'])\n",
    "labels.shape"
   ]
  },
  {
   "cell_type": "code",
   "execution_count": 25,
   "id": "0f7cb71e-2bac-4aea-9aff-5d98fd9c7b65",
   "metadata": {},
   "outputs": [
    {
     "data": {
      "text/plain": [
       "(5627, 1876, 5627, 1876)"
      ]
     },
     "execution_count": 25,
     "metadata": {},
     "output_type": "execute_result"
    }
   ],
   "source": [
    "# train-test split\n",
    "train_size = int(len(attention_mask)*0.75)\n",
    "padded_train = padded[:train_size]\n",
    "padded_val = padded[train_size:]\n",
    "attention_mask_train = attention_mask[:train_size]\n",
    "attention_mask_val = attention_mask[train_size:]\n",
    "labels_train = labels[:train_size]\n",
    "labels_val = labels[train_size:]\n",
    "len(padded_train), len(padded_val), len(attention_mask_train), len(attention_mask_val)"
   ]
  },
  {
   "cell_type": "code",
   "execution_count": 26,
   "id": "2e31d5d9-774a-4254-8112-afa308db1080",
   "metadata": {},
   "outputs": [
    {
     "data": {
      "text/plain": [
       "(5627, 1876)"
      ]
     },
     "execution_count": 26,
     "metadata": {},
     "output_type": "execute_result"
    }
   ],
   "source": [
    "len(labels_train), len(labels_val)"
   ]
  },
  {
   "cell_type": "code",
   "execution_count": 27,
   "id": "f760f3e2-30c4-413d-8ada-4c6d8e9a9582",
   "metadata": {},
   "outputs": [],
   "source": [
    "# custom dataset\n",
    "class TokenDataset(Dataset):\n",
    "    def __init__(self,padded, attention_mask, labels):\n",
    "        self.padded = padded # array\n",
    "        self.attention_mask = attention_mask # array\n",
    "        self.labels = labels # aray\n",
    "        \n",
    "    def __len__(self):\n",
    "        return len(self.padded)\n",
    "\n",
    "    def __getitem__(self, index: int):\n",
    "        token_id = torch.from_numpy(self.padded[index]).int()\n",
    "        attention = torch.from_numpy(self.attention_mask[index]).int()\n",
    "        label = torch.from_numpy(np.array(self.labels[index]))\n",
    "        return  token_id, attention, label"
   ]
  },
  {
   "cell_type": "code",
   "execution_count": 28,
   "id": "8f37e377-ac7d-4350-80a0-927b97d23103",
   "metadata": {},
   "outputs": [],
   "source": [
    "train_dataset = TokenDataset(padded_train, attention_mask_train, labels_train)\n",
    "val_dataset = TokenDataset(padded_val, attention_mask_val, labels_val)\n",
    "\n",
    "batch_size = 32\n",
    "num_worker = 0\n",
    "#num_worker = os.cpu_count()\n",
    "train_dataloader = DataLoader(train_dataset,batch_size, num_workers=num_worker, shuffle=True)\n",
    "val_dataloader = DataLoader(val_dataset,batch_size, num_workers=num_worker, shuffle=True)"
   ]
  },
  {
   "cell_type": "markdown",
   "id": "16540917-1c5d-4c43-ba49-11e8181f4264",
   "metadata": {},
   "source": [
    "# model"
   ]
  },
  {
   "cell_type": "code",
   "execution_count": 29,
   "id": "0399484e-1f05-4164-907a-264fa75f02c3",
   "metadata": {},
   "outputs": [],
   "source": [
    "# Set seeds\n",
    "def set_seeds(seed: int=42):\n",
    "    \"\"\"Sets random sets for torch operations.\n",
    "\n",
    "    Args:\n",
    "        seed (int, optional): Random seed to set. Defaults to 42.\n",
    "    \"\"\"\n",
    "    # Set the seed for general torch operations\n",
    "    torch.manual_seed(seed)\n",
    "    # Set the seed for CUDA torch operations (ones that happen on the GPU)\n",
    "    torch.cuda.manual_seed(seed)"
   ]
  },
  {
   "cell_type": "code",
   "execution_count": 30,
   "id": "650b6948-f24b-48da-8cee-a3d351c88b21",
   "metadata": {},
   "outputs": [],
   "source": [
    "class SentimentClassifier2(nn.Module):\n",
    "\n",
    "  def __init__(self, n_classes, hidden_lstm):\n",
    "    super().__init__()\n",
    "    self.bert = BertModel.from_pretrained(\"bert-large-uncased\")\n",
    "    self.biLstms = nn.LSTM(input_size = 1, \n",
    "                         hidden_size =hidden_lstm,\n",
    "                         num_layers = 2,\n",
    "                         batch_first =True,\n",
    "                         bidirectional =True)\n",
    "    self.lstms = nn.LSTM(input_size = 2*hidden_lstm, \n",
    "                         hidden_size =hidden_lstm,\n",
    "                         num_layers = 4,\n",
    "                         batch_first =True)\n",
    "    self.linear1 = nn.Linear(hidden_lstm*self.bert.config.hidden_size, 128)\n",
    "    self.linear2 = nn.Linear(128, 48)\n",
    "    self.linear3 = nn.Linear(48, n_classes)\n",
    "    self.relu = nn.ReLU()\n",
    "    self.hidden_lstm = hidden_lstm\n",
    "  \n",
    "  def forward(self, input_ids, attention_mask):\n",
    "    last_hidden_states = self.bert(\n",
    "      input_ids=input_ids,\n",
    "      attention_mask=attention_mask\n",
    "    ) # out = [batch, seq_len, hidden units = 768]\n",
    "    batch, seq_length, hidden_units = last_hidden_states[0].shape\n",
    "    out = last_hidden_states[0][:, 0, :] # shape = [batch, hidden units], [CLS] extraction\n",
    "    out, (h,c) = self.biLstms(out.reshape(batch, hidden_units, 1)) # out = [batch, seq_length = 768, 2xhidden_lstm]\n",
    "    out, (h,c) = self.lstms(out, (h,c)) # out = [batch, seq_len = 768, hidden_lstm]\n",
    "    out = self.relu(self.linear1(out.reshape(batch, hidden_units*self.hidden_lstm)))\n",
    "    out = self.relu(self.linear2(out))\n",
    "    out = self.linear3(out)\n",
    "    return out"
   ]
  },
  {
   "cell_type": "code",
   "execution_count": 31,
   "id": "a2188a82-90c2-4e69-a9cf-fd5e84497e4a",
   "metadata": {},
   "outputs": [],
   "source": [
    "class SentimentClassifier1(nn.Module):\n",
    "\n",
    "  def __init__(self, n_classes):\n",
    "    super().__init__()\n",
    "    self.bert = BertModel.from_pretrained(\"bert-base-uncased\")\n",
    "    self.classifyer = nn.Linear(self.bert.config.hidden_size, n_classes)\n",
    "                                    \n",
    "    #self.linear1 = nn.Linear(self.bert.config.hidden_size, 256)\n",
    "    #self.linear2 = nn.Linear(256, n_classes)\n",
    "    #self.relu = nn.ReLU()\n",
    "    #self.drop = nn.Dropout(p=0.15)\n",
    "    #self.layerNorm = nn.LayerNorm(self.bert.config.hidden_size)\n",
    "  \n",
    "  def forward(self, input_ids, attention_mask):\n",
    "    last_hidden_states = self.bert(input_ids=input_ids,\n",
    "      attention_mask=attention_mask) # out = [batch, seq_len, hidden units]\n",
    "    #out = self.layerNorm(last_hidden_states[0])[:, 0, :] # shape = [batch, hidden units]\n",
    "    #out = self.drop(self.relu(self.linear1(out)))\n",
    "    #out = self.linear2(out)\n",
    "    out = last_hidden_states[0][:, 0, :] # shape = [batch, hidden units]\n",
    "    #out = last_hidden_states[1] # shape = [batch, hidden units]\n",
    "    out = self.classifyer(out)\n",
    "    return out"
   ]
  },
  {
   "cell_type": "code",
   "execution_count": 32,
   "id": "bbd1ab33-c0d3-46fc-be5f-3c53e0ed0552",
   "metadata": {},
   "outputs": [],
   "source": [
    "class SentimentClassifier0(nn.Module):\n",
    "\n",
    "  def __init__(self, n_classes):\n",
    "    super().__init__()\n",
    "    self.bert = BertModel.from_pretrained(\"bert-large-uncased\")\n",
    "    self.drop = nn.Dropout(p=0.2)\n",
    "    self.linear = nn.Sequential(nn.Linear(self.bert.config.hidden_size, 512),\n",
    "                                nn.Linear(512, 256),\n",
    "                                nn.Linear(256, 128),\n",
    "                                nn.Linear(128, 64),\n",
    "                                nn.Linear(64, 32),\n",
    "                                nn.Linear(32, 16),\n",
    "                                nn.Linear(16, 8))\n",
    "    self.last = nn.Linear(8, n_classes)\n",
    "\n",
    "  \n",
    "  def forward(self, input_ids, attention_mask):\n",
    "    last_hidden_states = self.bert(\n",
    "      input_ids=input_ids,\n",
    "      attention_mask=attention_mask\n",
    "    ) # out = [batch, seq_len, hidden units]\n",
    "    out = last_hidden_states[0][:, 0, :] # shape = [batch, hidden units]\n",
    "    out = self.drop(self.linear(out))\n",
    "    out = self.last(out)\n",
    "    return out"
   ]
  },
  {
   "cell_type": "code",
   "execution_count": 33,
   "id": "e016677f-f8e1-410c-9534-a7b7716361f0",
   "metadata": {},
   "outputs": [
    {
     "name": "stderr",
     "output_type": "stream",
     "text": [
      "Some weights of the model checkpoint at bert-base-uncased were not used when initializing BertModel: ['cls.predictions.bias', 'cls.seq_relationship.weight', 'cls.seq_relationship.bias', 'cls.predictions.transform.LayerNorm.weight', 'cls.predictions.decoder.weight', 'cls.predictions.transform.dense.weight', 'cls.predictions.transform.LayerNorm.bias', 'cls.predictions.transform.dense.bias']\n",
      "- This IS expected if you are initializing BertModel from the checkpoint of a model trained on another task or with another architecture (e.g. initializing a BertForSequenceClassification model from a BertForPreTraining model).\n",
      "- This IS NOT expected if you are initializing BertModel from the checkpoint of a model that you expect to be exactly identical (initializing a BertForSequenceClassification model from a BertForSequenceClassification model).\n"
     ]
    }
   ],
   "source": [
    "set_seeds()\n",
    "#model = SentimentClassifier2(n_classes = 1, hidden_lstm=100).to(device)\n",
    "#model = BertModel.from_pretrained(\"bert-base-uncased\").to(device)\n",
    "model = SentimentClassifier1(n_classes = 1).to(device)"
   ]
  },
  {
   "cell_type": "code",
   "execution_count": 45,
   "id": "83a47eca-2296-4d53-8dd1-6714bbeb1010",
   "metadata": {},
   "outputs": [],
   "source": [
    "def train_step(model: torch.nn.Module, \n",
    "               dataloader: torch.utils.data.DataLoader, \n",
    "               loss_fn: torch.nn.Module, \n",
    "               optimizer: torch.optim.Optimizer,\n",
    "               device: torch.device):\n",
    "    \"\"\"Trains a PyTorch model for a single epoch.\n",
    "\n",
    "    Turns a target PyTorch model to training mode and then\n",
    "    runs through all of the required training steps (forward\n",
    "    pass, loss calculation, optimizer step).\n",
    "\n",
    "    Args:\n",
    "    model: A PyTorch model to be trained.\n",
    "    dataloader: A DataLoader instance for the model to be trained on.\n",
    "    loss_fn: A PyTorch loss function to minimize.\n",
    "    optimizer: A PyTorch optimizer to help minimize the loss function.\n",
    "    device: A target device to compute on (e.g. \"cuda\" or \"cpu\").\n",
    "\n",
    "    Returns:\n",
    "    A tuple of training loss and training accuracy metrics.\n",
    "    In the form (train_loss, train_accuracy). For example:\n",
    "\n",
    "    (0.1112, 0.8743)\n",
    "    \"\"\"\n",
    "    # Put model in train mode\n",
    "    model.train()\n",
    "\n",
    "    # Setup train loss and train accuracy values\n",
    "    train_loss, train_acc = 0, 0\n",
    "\n",
    "    # Loop through data loader data batches\n",
    "    for batch, sample in enumerate(dataloader):\n",
    "        # Send data to target device\n",
    "        token_id, mask, labels = sample\n",
    "        batch_size, seq_len = token_id.shape # labels size = [batch]\n",
    "        token_id = token_id.to(device)\n",
    "        mask = mask.to(device)\n",
    "        labels = labels.to(device)\n",
    "\n",
    "        # 1. Forward pass\n",
    "        y_pred = model(token_id, mask).squeeze() # size = [batch, num_class]\n",
    "        y_pred_class = torch.round(torch.sigmoid(y_pred)) # size = [batch]\n",
    "\n",
    "        # 2. Calculate  and accumulate loss\n",
    "        loss = loss_fn(y_pred, labels.float())\n",
    "        train_loss += loss.item() \n",
    "\n",
    "        # 3. Optimizer zero grad\n",
    "        optimizer.zero_grad()\n",
    "\n",
    "        # 4. Loss backward\n",
    "        loss.backward()\n",
    "\n",
    "        # 5. Optimizer step\n",
    "        optimizer.step()\n",
    "        \n",
    "        train_acc += (y_pred_class == labels).sum().item()/len(y_pred)\n",
    "\n",
    "        # Calculate and accumulate accuracy metric across all batches\n",
    "        #delta_y = y.detach().cpu().numpy() - y_pred.detach().cpu().numpy()\n",
    "        #train_acc+= (np.sum((y.detach().cpu().numpy()-delta_y)/y.detach().cpu().numpy())/len(y))*100\n",
    "        #print(batch, loss.item(), train_acc/(batch+1))\n",
    "\n",
    "    # Adjust metrics to get average loss and accuracy per batch \n",
    "    train_loss = train_loss / len(dataloader)\n",
    "    train_acc = train_acc / len(dataloader)\n",
    "    return train_loss, train_acc\n",
    "\n",
    "def test_step(model: torch.nn.Module, \n",
    "              dataloader: torch.utils.data.DataLoader, \n",
    "              loss_fn: torch.nn.Module,\n",
    "              device: torch.device):\n",
    "    \"\"\"Tests a PyTorch model for a single epoch.\n",
    "\n",
    "    Turns a target PyTorch model to \"eval\" mode and then performs\n",
    "    a forward pass on a testing dataset.\n",
    "\n",
    "    Args:\n",
    "    model: A PyTorch model to be tested.\n",
    "    dataloader: A DataLoader instance for the model to be tested on.\n",
    "    loss_fn: A PyTorch loss function to calculate loss on the test data.\n",
    "    device: A target device to compute on (e.g. \"cuda\" or \"cpu\").\n",
    "\n",
    "    Returns:\n",
    "    A tuple of testing loss and testing accuracy metrics.\n",
    "    In the form (test_loss, test_accuracy). For example:\n",
    "\n",
    "    (0.0223, 0.8985)\n",
    "    \"\"\"\n",
    "    # Put model in eval mode\n",
    "    model.eval() \n",
    "\n",
    "    # Setup test loss and test accuracy values\n",
    "    test_loss, test_acc = 0, 0\n",
    "\n",
    "    # Turn on inference context manager\n",
    "    with torch.inference_mode():\n",
    "        # Loop through DataLoader batches\n",
    "        for batch, sample in enumerate(dataloader):\n",
    "            # Send data to target device\n",
    "            token_id, mask, labels = sample\n",
    "            batch_size, seq_len = token_id.shape # labels size = [batch]\n",
    "            token_id = token_id.to(device)\n",
    "            mask = mask.to(device)\n",
    "            labels = labels.to(device)\n",
    "            \n",
    "\n",
    "            # 1. Forward pass\n",
    "            test_pred_logits = model(token_id, mask).squeeze() # size = [batch, num_class]\n",
    "\n",
    "            # 2. Calculate and accumulate loss\n",
    "            loss = loss_fn(test_pred_logits, labels.float())\n",
    "            test_loss += loss.item()\n",
    "\n",
    "            # Calculate and accumulate accuracy\n",
    "            #delta_y = y.detach().cpu().numpy() - test_pred_logits.detach().cpu().numpy()\n",
    "            #test_acc+= (np.sum((y.detach().cpu().numpy()-delta_y)/y.detach().cpu().numpy())/len(y))*100\n",
    "            y_pred_class = torch.round(torch.sigmoid(test_pred_logits)) # size = [batch]\n",
    "            test_acc += (y_pred_class == labels).sum().item()/len(test_pred_logits)\n",
    "\n",
    "    # Adjust metrics to get average loss and accuracy per batch \n",
    "    test_loss = test_loss / len(dataloader)\n",
    "    test_acc = test_acc / len(dataloader)\n",
    "    return test_loss, test_acc\n",
    "\n",
    "def train(model: torch.nn.Module, \n",
    "          train_dataloader: torch.utils.data.DataLoader, \n",
    "          test_dataloader: torch.utils.data.DataLoader, \n",
    "          optimizer: torch.optim.Optimizer,\n",
    "          loss_fn: torch.nn.Module,\n",
    "          epochs: int,\n",
    "          device: torch.device) -> Dict[str, List]:\n",
    "    \"\"\"Trains and tests a PyTorch model.\n",
    "\n",
    "    Passes a target PyTorch models through train_step() and test_step()\n",
    "    functions for a number of epochs, training and testing the model\n",
    "    in the same epoch loop.\n",
    "\n",
    "    Calculates, prints and stores evaluation metrics throughout.\n",
    "\n",
    "    Args:\n",
    "    model: A PyTorch model to be trained and tested.\n",
    "    train_dataloader: A DataLoader instance for the model to be trained on.\n",
    "    test_dataloader: A DataLoader instance for the model to be tested on.\n",
    "    optimizer: A PyTorch optimizer to help minimize the loss function.\n",
    "    loss_fn: A PyTorch loss function to calculate loss on both datasets.\n",
    "    epochs: An integer indicating how many epochs to train for.\n",
    "    device: A target device to compute on (e.g. \"cuda\" or \"cpu\").\n",
    "\n",
    "    Returns:\n",
    "    A dictionary of training and testing loss as well as training and\n",
    "    testing accuracy metrics. Each metric has a value in a list for \n",
    "    each epoch.\n",
    "    In the form: {train_loss: [...],\n",
    "              train_acc: [...],\n",
    "              test_loss: [...],\n",
    "              test_acc: [...]} \n",
    "    For example if training for epochs=2: \n",
    "             {train_loss: [2.0616, 1.0537],\n",
    "              train_acc: [0.3945, 0.3945],\n",
    "              test_loss: [1.2641, 1.5706],\n",
    "              test_acc: [0.3400, 0.2973]} \n",
    "    \"\"\"\n",
    "    \n",
    "    # track accuracy (if it doesn't increase, reducr the learning rate)\n",
    "    scheduler = torch.optim.lr_scheduler.ReduceLROnPlateau(optimizer, mode='max', patience=5, verbose=True)\n",
    "    \n",
    "    early_stop_count=0\n",
    "    \n",
    "    # Create empty results dictionary\n",
    "    results = {\"train_loss\": [],\n",
    "               \"train_acc\": [],\n",
    "               \"test_loss\": [],\n",
    "               \"test_acc\": []\n",
    "    }\n",
    "    \n",
    "    # Make sure model on target device\n",
    "    model.to(device)\n",
    "\n",
    "    # Loop through training and testing steps for a number of epochs\n",
    "    for epoch in tqdm(range(epochs)):\n",
    "        start = timeit.default_timer()\n",
    "        train_loss, train_acc = train_step(model=model,\n",
    "                                          dataloader=train_dataloader,\n",
    "                                          loss_fn=loss_fn,\n",
    "                                          optimizer=optimizer,\n",
    "                                          device=device)\n",
    "        print('train', epoch+1, 'completed')\n",
    "        test_loss, test_acc = test_step(model=model,\n",
    "          dataloader=test_dataloader,\n",
    "          loss_fn=loss_fn,\n",
    "          device=device)\n",
    "        print('test', epoch+1, 'completed')\n",
    "        stop = timeit.default_timer()\n",
    "\n",
    "        # Print out what's happening\n",
    "        print(\n",
    "          f\"Epoch: {epoch+1} | \"\n",
    "          f\"train_loss: {train_loss:.4f} | \"\n",
    "          f\"train_acc: {train_acc:.4f} | \"\n",
    "          f\"test_loss: {test_loss:.4f} | \"\n",
    "          f\"test_acc: {test_acc:.4f} | \"\n",
    "          f\"time (sec): {stop-start:.2f}\"\n",
    "        )\n",
    "        \n",
    "        scheduler.step(test_acc) # monitor test accuracy\n",
    "        \n",
    "        # early stopping\n",
    "        if epoch==0:\n",
    "            pass\n",
    "        else:\n",
    "            if  test_acc-results[\"test_acc\"][-1] <= 0.001:\n",
    "                early_stop_count+=1\n",
    "                if early_stop_count==5:\n",
    "                    print('early stopping!')\n",
    "                    break\n",
    "            else:\n",
    "                early_stop_count=0\n",
    "        \n",
    "        # Update results dictionary\n",
    "        results[\"train_loss\"].append(train_loss)\n",
    "        results[\"train_acc\"].append(train_acc)\n",
    "        results[\"test_loss\"].append(test_loss)\n",
    "        results[\"test_acc\"].append(test_acc)\n",
    "        \n",
    "                \n",
    "    # Return the filled results at the end of the epochs\n",
    "    return results"
   ]
  },
  {
   "cell_type": "code",
   "execution_count": 41,
   "id": "2a6fb871-4c05-445c-b7fe-086d3a76b7e4",
   "metadata": {},
   "outputs": [],
   "source": [
    "# Plot loss curves of a model\n",
    "def plot_loss_curves(results):\n",
    "    \"\"\"Plots training curves of a results dictionary.\n",
    "\n",
    "    Args:\n",
    "        results (dict): dictionary containing list of values, e.g.\n",
    "            {\"train_loss\": [...],\n",
    "             \"train_acc\": [...],\n",
    "             \"test_loss\": [...],\n",
    "             \"test_acc\": [...]}\n",
    "    \"\"\"\n",
    "    loss = results[\"train_loss\"]\n",
    "    test_loss = results[\"test_loss\"]\n",
    "\n",
    "    accuracy = results[\"train_acc\"]\n",
    "    test_accuracy = results[\"test_acc\"]\n",
    "\n",
    "    epochs = range(1, len(results[\"train_loss\"])+1)\n",
    "\n",
    "    plt.figure(figsize=(15, 7))\n",
    "\n",
    "    # Plot loss\n",
    "    plt.subplot(1, 2, 1)\n",
    "    plt.plot(epochs, loss, label=\"train_loss\")\n",
    "    plt.plot(epochs, test_loss, label=\"test_loss\")\n",
    "    plt.xticks(epochs)\n",
    "    plt.title(\"Loss\")\n",
    "    plt.xlabel(\"Epochs\")\n",
    "    plt.legend()\n",
    "\n",
    "    # Plot accuracy\n",
    "    plt.subplot(1, 2, 2)\n",
    "    plt.plot(epochs, accuracy, label=\"train_accuracy\")\n",
    "    plt.plot(epochs, test_accuracy, label=\"test_accuracy\")\n",
    "    plt.xticks(epochs)\n",
    "    plt.title(\"Accuracy\")\n",
    "    plt.xlabel(\"Epochs\")\n",
    "    plt.legend()\n",
    "    print('average train accuracy:', sum(accuracy)/len(accuracy))\n",
    "    print('average test accuracy:', sum(test_accuracy)/len(test_accuracy))"
   ]
  },
  {
   "cell_type": "code",
   "execution_count": 42,
   "id": "08395a21-a8e4-4e1f-b376-6e3a35b26bb9",
   "metadata": {},
   "outputs": [],
   "source": [
    "def plot_confision_matrix(model, dataloader, num_classes):\n",
    "    # 1. Make predictions with trained model\n",
    "    y_preds = []\n",
    "    y_trues = []\n",
    "    model.eval()\n",
    "    with torch.inference_mode():\n",
    "         for batch, sample in enumerate(dataloader):\n",
    "            # Send data to target device\n",
    "            token_id, mask, labels = sample\n",
    "            batch_size, seq_len = token_id.shape # labels size = [batch]\n",
    "            token_id = token_id.to(device)\n",
    "            mask = mask.to(device)\n",
    "            labels = labels.to(device)\n",
    "            \n",
    "\n",
    "            # 1. Forward pass\n",
    "            y_pred_class = torch.round(torch.sigmoid(model(token_id, mask).squeeze())) # size = [batch]\n",
    "            y_preds.append(y_pred_class.cpu())\n",
    "            y_trues.append(labels.cpu())\n",
    "    # Concatenate list of predictions into a tensor\n",
    "    y_pred_tensor = torch.cat(y_preds)\n",
    "    y_true_tensor = torch.cat(y_trues)\n",
    "    \n",
    "    # 2. Setup confusion matrix instance and compare predictions to targets\n",
    "    confmat = ConfusionMatrix(num_classes=num_classes)\n",
    "    confmat_tensor = confmat(preds=y_pred_tensor,\n",
    "                             target=y_true_tensor)\n",
    "\n",
    "    # 3. Plot the confusion matrix\n",
    "    class_dict = {0: 'Negative',\n",
    "                  1: 'Positive'}\n",
    "    fig, ax = plot_confusion_matrix(\n",
    "        conf_mat=confmat_tensor.numpy(), # matplotlib likes working with NumPy \n",
    "        colorbar=True,\n",
    "        show_absolute=True,\n",
    "        show_normed=True,\n",
    "        class_names=class_dict.values(),\n",
    "        figsize=(10, 7)\n",
    "    );"
   ]
  },
  {
   "cell_type": "code",
   "execution_count": 56,
   "id": "ceb9f0e2-62cc-43c7-b7de-c3522718ca52",
   "metadata": {},
   "outputs": [],
   "source": [
    "def predict(model, test_df):\n",
    "    y_preds = []\n",
    "    test_df['text'] = test_df['text'].apply(lambda x: text_preprocess(x, remove_stop = remove_stop_initial))\n",
    "    tokenized=test_df['text'].apply((lambda x: tokenizer.encode(x, add_special_tokens=True)))\n",
    "    max_len = max(len(i) for i in tokenized)\n",
    "    padded = np.array([i + [0]*(max_len-len(i)) for i in tokenized.values])\n",
    "    attention_mask = np.where(padded != 0, 1, 0)\n",
    "    model.eval()\n",
    "    with torch.inference_mode():\n",
    "         for sample_index in tqdm(range(len(padded))):\n",
    "            # Send data to target device\n",
    "            token_id = torch.from_numpy(padded[sample_index].reshape(1, max_len)).int().to(device)\n",
    "            mask = torch.from_numpy(attention_mask[sample_index].reshape(1, max_len)).int().to(device)\n",
    "            \n",
    "            # 1. Forward pass\n",
    "            y_pred_class = torch.round(torch.sigmoid(model(token_id, mask).squeeze())) # size = [batch]\n",
    "            y_preds.append(int(y_pred_class.cpu().item()))\n",
    "    # Concatenate list of predictions into a tensor\n",
    "    return y_preds"
   ]
  },
  {
   "cell_type": "markdown",
   "id": "edcba906-fd56-43bf-a71c-d2f797ebcd9a",
   "metadata": {},
   "source": [
    "# train"
   ]
  },
  {
   "cell_type": "code",
   "execution_count": 46,
   "id": "9f2655ac-cf6c-4026-b5d4-d9a346fcb1bf",
   "metadata": {},
   "outputs": [],
   "source": [
    "linear_list = [model.classifyer.parameters(),\n",
    "              model.bert.encoder.layer[11].parameters()] # layer 11 or 23"
   ]
  },
  {
   "cell_type": "code",
   "execution_count": 47,
   "id": "71892ed4-04e8-48b7-bfcd-db3e313f1c81",
   "metadata": {},
   "outputs": [
    {
     "data": {
      "application/vnd.jupyter.widget-view+json": {
       "model_id": "2eb6620f5cac4f9a9912aa06b6dfc47f",
       "version_major": 2,
       "version_minor": 0
      },
      "text/plain": [
       "  0%|          | 0/20 [00:00<?, ?it/s]"
      ]
     },
     "metadata": {},
     "output_type": "display_data"
    },
    {
     "name": "stdout",
     "output_type": "stream",
     "text": [
      "train 1 completed\n",
      "test 1 completed\n",
      "Epoch: 1 | train_loss: 0.5596 | train_acc: 0.7314 | test_loss: 0.4926 | test_acc: 0.7761 | time (sec): 43.91\n",
      "train 2 completed\n",
      "test 2 completed\n",
      "Epoch: 2 | train_loss: 0.4970 | train_acc: 0.7739 | test_loss: 0.4643 | test_acc: 0.7832 | time (sec): 43.89\n",
      "train 3 completed\n",
      "test 3 completed\n",
      "Epoch: 3 | train_loss: 0.4855 | train_acc: 0.7795 | test_loss: 0.4533 | test_acc: 0.7872 | time (sec): 43.86\n",
      "train 4 completed\n",
      "test 4 completed\n",
      "Epoch: 4 | train_loss: 0.4711 | train_acc: 0.7840 | test_loss: 0.4491 | test_acc: 0.7882 | time (sec): 43.90\n",
      "train 5 completed\n",
      "test 5 completed\n",
      "Epoch: 5 | train_loss: 0.4629 | train_acc: 0.7900 | test_loss: 0.4449 | test_acc: 0.8103 | time (sec): 43.90\n",
      "train 6 completed\n",
      "test 6 completed\n",
      "Epoch: 6 | train_loss: 0.4591 | train_acc: 0.7959 | test_loss: 0.4403 | test_acc: 0.7914 | time (sec): 43.93\n",
      "train 7 completed\n",
      "test 7 completed\n",
      "Epoch: 7 | train_loss: 0.4584 | train_acc: 0.8006 | test_loss: 0.4363 | test_acc: 0.8071 | time (sec): 43.93\n",
      "train 8 completed\n",
      "test 8 completed\n",
      "Epoch: 8 | train_loss: 0.4562 | train_acc: 0.7966 | test_loss: 0.4421 | test_acc: 0.7934 | time (sec): 43.93\n",
      "train 9 completed\n",
      "test 9 completed\n",
      "Epoch: 9 | train_loss: 0.4529 | train_acc: 0.8013 | test_loss: 0.4410 | test_acc: 0.8106 | time (sec): 43.92\n",
      "train 10 completed\n",
      "test 10 completed\n",
      "Epoch: 10 | train_loss: 0.4488 | train_acc: 0.8036 | test_loss: 0.4326 | test_acc: 0.8119 | time (sec): 43.88\n",
      "train 11 completed\n",
      "test 11 completed\n",
      "Epoch: 11 | train_loss: 0.4477 | train_acc: 0.8067 | test_loss: 0.4311 | test_acc: 0.8092 | time (sec): 43.88\n",
      "train 12 completed\n",
      "test 12 completed\n",
      "Epoch: 12 | train_loss: 0.4458 | train_acc: 0.8025 | test_loss: 0.4311 | test_acc: 0.8107 | time (sec): 43.94\n",
      "train 13 completed\n",
      "test 13 completed\n",
      "Epoch: 13 | train_loss: 0.4499 | train_acc: 0.8068 | test_loss: 0.4275 | test_acc: 0.8125 | time (sec): 43.94\n",
      "train 14 completed\n",
      "test 14 completed\n",
      "Epoch: 14 | train_loss: 0.4438 | train_acc: 0.8039 | test_loss: 0.4302 | test_acc: 0.8140 | time (sec): 43.98\n",
      "train 15 completed\n",
      "test 15 completed\n",
      "Epoch: 15 | train_loss: 0.4513 | train_acc: 0.8021 | test_loss: 0.4300 | test_acc: 0.8128 | time (sec): 44.02\n",
      "train 16 completed\n",
      "test 16 completed\n",
      "Epoch: 16 | train_loss: 0.4460 | train_acc: 0.8013 | test_loss: 0.4306 | test_acc: 0.8168 | time (sec): 44.03\n",
      "train 17 completed\n",
      "test 17 completed\n",
      "Epoch: 17 | train_loss: 0.4430 | train_acc: 0.8066 | test_loss: 0.4261 | test_acc: 0.8114 | time (sec): 43.97\n",
      "train 18 completed\n",
      "test 18 completed\n",
      "Epoch: 18 | train_loss: 0.4409 | train_acc: 0.8068 | test_loss: 0.4257 | test_acc: 0.8122 | time (sec): 43.99\n",
      "train 19 completed\n",
      "test 19 completed\n",
      "Epoch: 19 | train_loss: 0.4425 | train_acc: 0.8092 | test_loss: 0.4339 | test_acc: 0.8110 | time (sec): 43.97\n",
      "train 20 completed\n",
      "test 20 completed\n",
      "Epoch: 20 | train_loss: 0.4375 | train_acc: 0.8054 | test_loss: 0.4247 | test_acc: 0.8086 | time (sec): 43.96\n",
      "average train accuracy: 0.7954052241161615\n",
      "average test accuracy: 0.8039300847457627\n"
     ]
    },
    {
     "data": {
      "application/vnd.jupyter.widget-view+json": {
       "model_id": "2eeeedfca6674380af144005f90c2bd9",
       "version_major": 2,
       "version_minor": 0
      },
      "text/plain": [
       "  0%|          | 0/20 [00:00<?, ?it/s]"
      ]
     },
     "metadata": {},
     "output_type": "display_data"
    },
    {
     "name": "stdout",
     "output_type": "stream",
     "text": [
      "train 1 completed\n",
      "test 1 completed\n",
      "Epoch: 1 | train_loss: 0.4907 | train_acc: 0.7877 | test_loss: 0.4247 | test_acc: 0.8186 | time (sec): 47.46\n",
      "train 2 completed\n",
      "test 2 completed\n",
      "Epoch: 2 | train_loss: 0.4269 | train_acc: 0.8129 | test_loss: 0.4134 | test_acc: 0.8282 | time (sec): 47.44\n",
      "train 3 completed\n",
      "test 3 completed\n",
      "Epoch: 3 | train_loss: 0.4100 | train_acc: 0.8242 | test_loss: 0.4171 | test_acc: 0.8160 | time (sec): 47.41\n",
      "train 4 completed\n",
      "test 4 completed\n",
      "Epoch: 4 | train_loss: 0.3922 | train_acc: 0.8322 | test_loss: 0.5051 | test_acc: 0.8229 | time (sec): 47.39\n",
      "train 5 completed\n",
      "test 5 completed\n",
      "Epoch: 5 | train_loss: 0.3741 | train_acc: 0.8337 | test_loss: 0.4198 | test_acc: 0.8229 | time (sec): 47.40\n",
      "train 6 completed\n",
      "test 6 completed\n",
      "Epoch: 6 | train_loss: 0.3570 | train_acc: 0.8460 | test_loss: 0.4407 | test_acc: 0.8164 | time (sec): 47.42\n",
      "train 7 completed\n",
      "test 7 completed\n",
      "Epoch: 7 | train_loss: 0.3660 | train_acc: 0.8426 | test_loss: 0.4398 | test_acc: 0.8237 | time (sec): 47.44\n",
      "train 8 completed\n",
      "test 8 completed\n",
      "Epoch: 8 | train_loss: 0.3429 | train_acc: 0.8574 | test_loss: 0.4268 | test_acc: 0.8164 | time (sec): 47.46\n",
      "Epoch 00008: reducing learning rate of group 0 to 1.0000e-04.\n",
      "train 9 completed\n",
      "test 9 completed\n",
      "Epoch: 9 | train_loss: 0.3204 | train_acc: 0.8637 | test_loss: 0.4635 | test_acc: 0.8110 | time (sec): 47.51\n",
      "train 10 completed\n",
      "test 10 completed\n",
      "Epoch: 10 | train_loss: 0.3052 | train_acc: 0.8719 | test_loss: 0.4658 | test_acc: 0.8187 | time (sec): 47.45\n",
      "train 11 completed\n",
      "test 11 completed\n",
      "Epoch: 11 | train_loss: 0.2934 | train_acc: 0.8746 | test_loss: 0.4720 | test_acc: 0.8180 | time (sec): 47.41\n",
      "train 12 completed\n",
      "test 12 completed\n",
      "Epoch: 12 | train_loss: 0.2852 | train_acc: 0.8788 | test_loss: 0.4696 | test_acc: 0.8214 | time (sec): 47.41\n",
      "train 13 completed\n",
      "test 13 completed\n",
      "Epoch: 13 | train_loss: 0.2755 | train_acc: 0.8818 | test_loss: 0.5099 | test_acc: 0.8200 | time (sec): 47.44\n",
      "train 14 completed\n",
      "test 14 completed\n",
      "Epoch: 14 | train_loss: 0.2625 | train_acc: 0.8896 | test_loss: 0.5395 | test_acc: 0.8147 | time (sec): 47.46\n",
      "Epoch 00014: reducing learning rate of group 0 to 1.0000e-05.\n",
      "train 15 completed\n",
      "test 15 completed\n",
      "Epoch: 15 | train_loss: 0.2574 | train_acc: 0.8935 | test_loss: 0.5362 | test_acc: 0.8167 | time (sec): 47.41\n",
      "train 16 completed\n",
      "test 16 completed\n",
      "Epoch: 16 | train_loss: 0.2623 | train_acc: 0.8906 | test_loss: 0.5379 | test_acc: 0.8143 | time (sec): 47.44\n",
      "train 17 completed\n",
      "test 17 completed\n",
      "Epoch: 17 | train_loss: 0.2497 | train_acc: 0.8933 | test_loss: 0.5444 | test_acc: 0.8147 | time (sec): 47.39\n",
      "train 18 completed\n",
      "test 18 completed\n",
      "Epoch: 18 | train_loss: 0.2526 | train_acc: 0.8925 | test_loss: 0.5445 | test_acc: 0.8158 | time (sec): 47.45\n",
      "train 19 completed\n",
      "test 19 completed\n",
      "Epoch: 19 | train_loss: 0.2524 | train_acc: 0.8935 | test_loss: 0.5429 | test_acc: 0.8132 | time (sec): 47.39\n",
      "train 20 completed\n",
      "test 20 completed\n",
      "Epoch: 20 | train_loss: 0.2413 | train_acc: 0.8980 | test_loss: 0.5531 | test_acc: 0.8160 | time (sec): 47.41\n",
      "Epoch 00020: reducing learning rate of group 0 to 1.0000e-06.\n",
      "average train accuracy: 0.8629343565867001\n",
      "average test accuracy: 0.8179925847457629\n"
     ]
    }
   ],
   "source": [
    "# Freeze all base layers in the \"features\" section of the model (the feature extractor) by setting requires_grad=False\n",
    "for param in model.parameters():\n",
    "    param.requires_grad = False\n",
    "    \n",
    "for unfreeze in linear_list:\n",
    "    for param in unfreeze:\n",
    "        param.requires_grad = True\n",
    "    # Define loss and optimizer\n",
    "    loss_fn = nn.BCEWithLogitsLoss()\n",
    "    optimizer = torch.optim.Adam(model.parameters(), lr=1e-3)\n",
    "    results = train(model=model,\n",
    "                           train_dataloader=train_dataloader,\n",
    "                           test_dataloader=val_dataloader,\n",
    "                           optimizer=optimizer,\n",
    "                           loss_fn=loss_fn,\n",
    "                           epochs=20,\n",
    "                           device=device)\n",
    "    loss = results[\"train_loss\"]\n",
    "    test_loss = results[\"test_loss\"]\n",
    "\n",
    "    accuracy = results[\"train_acc\"]\n",
    "    test_accuracy = results[\"test_acc\"]\n",
    "    \n",
    "    print('average train accuracy:', sum(accuracy)/len(accuracy))\n",
    "    print('average test accuracy:', sum(test_accuracy)/len(test_accuracy))\n",
    "    # Plot the loss curves of our model\n",
    "    #plot_loss_curves(results)\n",
    "    # plot confusion matrix\n",
    "    #plot_confision_matrix(model, val_dataloader, 2)"
   ]
  },
  {
   "cell_type": "code",
   "execution_count": 48,
   "id": "35ca7244-9458-4a4f-94b2-882547fb348d",
   "metadata": {},
   "outputs": [
    {
     "name": "stdout",
     "output_type": "stream",
     "text": [
      "average train accuracy: 0.8629343565867001\n",
      "average test accuracy: 0.8179925847457629\n"
     ]
    },
    {
     "data": {
      "image/png": "[encoded data removed]",
      "text/plain": [
       "<Figure size 1080x504 with 2 Axes>"
      ]
     },
     "metadata": {
      "needs_background": "light"
     },
     "output_type": "display_data"
    }
   ],
   "source": [
    "plot_loss_curves(results)"
   ]
  },
  {
   "cell_type": "code",
   "execution_count": 49,
   "id": "d9f012cc-f204-4202-a29a-4d5187640501",
   "metadata": {},
   "outputs": [
    {
     "data": {
      "image/png": "[encoded data removed]",
      "text/plain": [
       "<Figure size 720x504 with 2 Axes>"
      ]
     },
     "metadata": {
      "needs_background": "light"
     },
     "output_type": "display_data"
    }
   ],
   "source": [
    "plot_confision_matrix(model, val_dataloader, 2)"
   ]
  },
  {
   "cell_type": "markdown",
   "id": "61d4ba15-59cc-46ef-b9bd-f2a542df38ae",
   "metadata": {},
   "source": [
    "# submission"
   ]
  },
  {
   "cell_type": "code",
   "execution_count": 57,
   "id": "c87b558f-2608-402e-afee-8b4ceeb6740a",
   "metadata": {},
   "outputs": [
    {
     "data": {
      "text/html": [
       "<div>\n",
       "<style scoped>\n",
       "    .dataframe tbody tr th:only-of-type {\n",
       "        vertical-align: middle;\n",
       "    }\n",
       "\n",
       "    .dataframe tbody tr th {\n",
       "        vertical-align: top;\n",
       "    }\n",
       "\n",
       "    .dataframe thead th {\n",
       "        text-align: right;\n",
       "    }\n",
       "</style>\n",
       "<table border=\"1\" class=\"dataframe\">\n",
       "  <thead>\n",
       "    <tr style=\"text-align: right;\">\n",
       "      <th></th>\n",
       "      <th>id</th>\n",
       "      <th>keyword</th>\n",
       "      <th>location</th>\n",
       "      <th>text</th>\n",
       "    </tr>\n",
       "  </thead>\n",
       "  <tbody>\n",
       "    <tr>\n",
       "      <th>0</th>\n",
       "      <td>0</td>\n",
       "      <td>NaN</td>\n",
       "      <td>NaN</td>\n",
       "      <td>Just happened a terrible car crash</td>\n",
       "    </tr>\n",
       "    <tr>\n",
       "      <th>1</th>\n",
       "      <td>2</td>\n",
       "      <td>NaN</td>\n",
       "      <td>NaN</td>\n",
       "      <td>Heard about #earthquake is different cities, s...</td>\n",
       "    </tr>\n",
       "    <tr>\n",
       "      <th>2</th>\n",
       "      <td>3</td>\n",
       "      <td>NaN</td>\n",
       "      <td>NaN</td>\n",
       "      <td>there is a forest fire at spot pond, geese are...</td>\n",
       "    </tr>\n",
       "    <tr>\n",
       "      <th>3</th>\n",
       "      <td>9</td>\n",
       "      <td>NaN</td>\n",
       "      <td>NaN</td>\n",
       "      <td>Apocalypse lighting. #Spokane #wildfires</td>\n",
       "    </tr>\n",
       "    <tr>\n",
       "      <th>4</th>\n",
       "      <td>11</td>\n",
       "      <td>NaN</td>\n",
       "      <td>NaN</td>\n",
       "      <td>Typhoon Soudelor kills 28 in China and Taiwan</td>\n",
       "    </tr>\n",
       "    <tr>\n",
       "      <th>...</th>\n",
       "      <td>...</td>\n",
       "      <td>...</td>\n",
       "      <td>...</td>\n",
       "      <td>...</td>\n",
       "    </tr>\n",
       "    <tr>\n",
       "      <th>3258</th>\n",
       "      <td>10861</td>\n",
       "      <td>NaN</td>\n",
       "      <td>NaN</td>\n",
       "      <td>EARTHQUAKE SAFETY LOS ANGELES ÛÒ SAFETY FASTE...</td>\n",
       "    </tr>\n",
       "    <tr>\n",
       "      <th>3259</th>\n",
       "      <td>10865</td>\n",
       "      <td>NaN</td>\n",
       "      <td>NaN</td>\n",
       "      <td>Storm in RI worse than last hurricane. My city...</td>\n",
       "    </tr>\n",
       "    <tr>\n",
       "      <th>3260</th>\n",
       "      <td>10868</td>\n",
       "      <td>NaN</td>\n",
       "      <td>NaN</td>\n",
       "      <td>Green Line derailment in Chicago http://t.co/U...</td>\n",
       "    </tr>\n",
       "    <tr>\n",
       "      <th>3261</th>\n",
       "      <td>10874</td>\n",
       "      <td>NaN</td>\n",
       "      <td>NaN</td>\n",
       "      <td>MEG issues Hazardous Weather Outlook (HWO) htt...</td>\n",
       "    </tr>\n",
       "    <tr>\n",
       "      <th>3262</th>\n",
       "      <td>10875</td>\n",
       "      <td>NaN</td>\n",
       "      <td>NaN</td>\n",
       "      <td>#CityofCalgary has activated its Municipal Eme...</td>\n",
       "    </tr>\n",
       "  </tbody>\n",
       "</table>\n",
       "<p>3263 rows × 4 columns</p>\n",
       "</div>"
      ],
      "text/plain": [
       "         id keyword location  \\\n",
       "0         0     NaN      NaN   \n",
       "1         2     NaN      NaN   \n",
       "2         3     NaN      NaN   \n",
       "3         9     NaN      NaN   \n",
       "4        11     NaN      NaN   \n",
       "...     ...     ...      ...   \n",
       "3258  10861     NaN      NaN   \n",
       "3259  10865     NaN      NaN   \n",
       "3260  10868     NaN      NaN   \n",
       "3261  10874     NaN      NaN   \n",
       "3262  10875     NaN      NaN   \n",
       "\n",
       "                                                   text  \n",
       "0                    Just happened a terrible car crash  \n",
       "1     Heard about #earthquake is different cities, s...  \n",
       "2     there is a forest fire at spot pond, geese are...  \n",
       "3              Apocalypse lighting. #Spokane #wildfires  \n",
       "4         Typhoon Soudelor kills 28 in China and Taiwan  \n",
       "...                                                 ...  \n",
       "3258  EARTHQUAKE SAFETY LOS ANGELES ÛÒ SAFETY FASTE...  \n",
       "3259  Storm in RI worse than last hurricane. My city...  \n",
       "3260  Green Line derailment in Chicago http://t.co/U...  \n",
       "3261  MEG issues Hazardous Weather Outlook (HWO) htt...  \n",
       "3262  #CityofCalgary has activated its Municipal Eme...  \n",
       "\n",
       "[3263 rows x 4 columns]"
      ]
     },
     "execution_count": 57,
     "metadata": {},
     "output_type": "execute_result"
    }
   ],
   "source": [
    "test_df = pd.read_csv('C:\\\\Users\\\\Saeth\\\\Downloads\\\\NLP_kaggke_disaster_prediction\\\\test.csv')\n",
    "test_df"
   ]
  },
  {
   "cell_type": "code",
   "execution_count": 58,
   "id": "a2c33193-c16a-4e1d-b095-2e27c3f2816f",
   "metadata": {},
   "outputs": [
    {
     "data": {
      "application/vnd.jupyter.widget-view+json": {
       "model_id": "e4fc6c0617d54db88bf14500ccbf3fb6",
       "version_major": 2,
       "version_minor": 0
      },
      "text/plain": [
       "  0%|          | 0/3263 [00:00<?, ?it/s]"
      ]
     },
     "metadata": {},
     "output_type": "display_data"
    }
   ],
   "source": [
    "predictions = predict(model, test_df)"
   ]
  },
  {
   "cell_type": "code",
   "execution_count": 59,
   "id": "b9a0749c-ecd9-4bfa-a51c-4f65334ebe56",
   "metadata": {},
   "outputs": [
    {
     "data": {
      "text/plain": [
       "[1, 1, 1, 0, 1, 1, 0, 0, 0, 0]"
      ]
     },
     "execution_count": 59,
     "metadata": {},
     "output_type": "execute_result"
    }
   ],
   "source": [
    "predictions[:10]"
   ]
  },
  {
   "cell_type": "code",
   "execution_count": 60,
   "id": "2e602d47-df8e-4493-a2e5-9182fc6ee2db",
   "metadata": {},
   "outputs": [],
   "source": [
    "submission = pd.read_csv('C:\\\\Users\\\\Saeth\\\\Downloads\\\\NLP_kaggke_disaster_prediction\\\\sample_submission.csv')"
   ]
  },
  {
   "cell_type": "code",
   "execution_count": 61,
   "id": "8d3999a7-7192-4851-966f-29a48ad3eff2",
   "metadata": {},
   "outputs": [],
   "source": [
    "submission['target'] = pd.Series(predictions)"
   ]
  },
  {
   "cell_type": "code",
   "execution_count": 62,
   "id": "e834ede1-4c7d-42e1-b4ef-be417be63d1a",
   "metadata": {},
   "outputs": [],
   "source": [
    "submission.to_csv(\"C:\\\\Users\\\\Saeth\\\\Downloads\\\\NLP_kaggke_disaster_prediction\\\\kaggle_submission_v2.csv\", index=False)"
   ]
  },
  {
   "cell_type": "code",
   "execution_count": null,
   "id": "eef39579-6df3-48b1-a8e0-f22c6dd62b51",
   "metadata": {},
   "outputs": [],
   "source": []
  }
 ],
 "metadata": {
  "kernelspec": {
   "display_name": "Python 3 (ipykernel)",
   "language": "python",
   "name": "python3"
  },
  "language_info": {
   "codemirror_mode": {
    "name": "ipython",
    "version": 3
   },
   "file_extension": ".py",
   "mimetype": "text/x-python",
   "name": "python",
   "nbconvert_exporter": "python",
   "pygments_lexer": "ipython3",
   "version": "3.9.12"
  }
 },
 "nbformat": 4,
 "nbformat_minor": 5
}
